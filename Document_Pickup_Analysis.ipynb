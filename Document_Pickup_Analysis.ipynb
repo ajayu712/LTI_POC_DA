{
 "cells": [
  {
   "cell_type": "code",
   "execution_count": 22,
   "metadata": {},
   "outputs": [],
   "source": [
    "import random\n",
    "import numpy as np\n",
    "import pandas as pd\n",
    "from datetime import datetime\n",
    "from datetime import timedelta"
   ]
  },
  {
   "cell_type": "markdown",
   "metadata": {},
   "source": [
    "Excel Generator for Document Created and Pick-Up Date"
   ]
  },
  {
   "cell_type": "code",
   "execution_count": 23,
   "metadata": {},
   "outputs": [],
   "source": [
    "listCategories=['Commercial Lines','Personal Lines','Claims','Flood','HNW' ]\n",
    "listSubCategories_CL=['CAN','CL Error','CL NEW','REN','REI','ROF']\n",
    "listSubCategories_PL=['CAN','CL Error','CL NEW','REN','REI','ROF']\n",
    "listSubCategories_Claims=['ACK','CAT','CLOSE','IR-CLAIMS']\n",
    "listSubCategories_Flood=['Call backs','Discrpency','Quotes']\n",
    "listSubCategories_HNW=['Discrpency','MKT','HNW1','HNW2','HNW3','HNW4']"
   ]
  },
  {
   "cell_type": "code",
   "execution_count": 24,
   "metadata": {},
   "outputs": [],
   "source": [
    "df=pd.DataFrame()"
   ]
  },
  {
   "cell_type": "code",
   "execution_count": 25,
   "metadata": {},
   "outputs": [],
   "source": [
    "Category=random.choices(listCategories,k=500)"
   ]
  },
  {
   "cell_type": "code",
   "execution_count": 26,
   "metadata": {},
   "outputs": [],
   "source": [
    "df = pd.DataFrame({'Category':Category})"
   ]
  },
  {
   "cell_type": "code",
   "execution_count": 27,
   "metadata": {},
   "outputs": [
    {
     "data": {
      "text/html": [
       "<div>\n",
       "<style scoped>\n",
       "    .dataframe tbody tr th:only-of-type {\n",
       "        vertical-align: middle;\n",
       "    }\n",
       "\n",
       "    .dataframe tbody tr th {\n",
       "        vertical-align: top;\n",
       "    }\n",
       "\n",
       "    .dataframe thead th {\n",
       "        text-align: right;\n",
       "    }\n",
       "</style>\n",
       "<table border=\"1\" class=\"dataframe\">\n",
       "  <thead>\n",
       "    <tr style=\"text-align: right;\">\n",
       "      <th></th>\n",
       "      <th>Category</th>\n",
       "    </tr>\n",
       "  </thead>\n",
       "  <tbody>\n",
       "    <tr>\n",
       "      <th>0</th>\n",
       "      <td>HNW</td>\n",
       "    </tr>\n",
       "    <tr>\n",
       "      <th>1</th>\n",
       "      <td>HNW</td>\n",
       "    </tr>\n",
       "    <tr>\n",
       "      <th>2</th>\n",
       "      <td>HNW</td>\n",
       "    </tr>\n",
       "    <tr>\n",
       "      <th>3</th>\n",
       "      <td>Claims</td>\n",
       "    </tr>\n",
       "    <tr>\n",
       "      <th>4</th>\n",
       "      <td>Commercial Lines</td>\n",
       "    </tr>\n",
       "  </tbody>\n",
       "</table>\n",
       "</div>"
      ],
      "text/plain": [
       "           Category\n",
       "0               HNW\n",
       "1               HNW\n",
       "2               HNW\n",
       "3            Claims\n",
       "4  Commercial Lines"
      ]
     },
     "execution_count": 27,
     "metadata": {},
     "output_type": "execute_result"
    }
   ],
   "source": [
    "df.head()"
   ]
  },
  {
   "cell_type": "code",
   "execution_count": 28,
   "metadata": {},
   "outputs": [],
   "source": [
    "def subCat_Selection(df):\n",
    "    #listCategories=['Commercial Lines','Personal Lines','Claims','Flood','HNW' ]\n",
    "    if df['Category'].__eq__('Commercial Lines'):\n",
    "        return random.choice(listSubCategories_CL)\n",
    "    elif df['Category'].__eq__('Personal Lines'):\n",
    "        return random.choice(listSubCategories_PL)\n",
    "    elif df['Category'].__eq__('Claims'):\n",
    "        return random.choice(listSubCategories_Claims)\n",
    "    elif df['Category'].__eq__('Flood'):\n",
    "        return random.choice(listSubCategories_Flood)\n",
    "    elif df['Category'].__eq__('HNW'):\n",
    "        return random.choice(listSubCategories_HNW)"
   ]
  },
  {
   "cell_type": "code",
   "execution_count": 29,
   "metadata": {},
   "outputs": [],
   "source": [
    "df['Sub-Category'] = df.apply(lambda row: subCat_Selection(row), axis=1)"
   ]
  },
  {
   "cell_type": "code",
   "execution_count": 30,
   "metadata": {},
   "outputs": [
    {
     "data": {
      "text/html": [
       "<div>\n",
       "<style scoped>\n",
       "    .dataframe tbody tr th:only-of-type {\n",
       "        vertical-align: middle;\n",
       "    }\n",
       "\n",
       "    .dataframe tbody tr th {\n",
       "        vertical-align: top;\n",
       "    }\n",
       "\n",
       "    .dataframe thead th {\n",
       "        text-align: right;\n",
       "    }\n",
       "</style>\n",
       "<table border=\"1\" class=\"dataframe\">\n",
       "  <thead>\n",
       "    <tr style=\"text-align: right;\">\n",
       "      <th></th>\n",
       "      <th>Category</th>\n",
       "      <th>Sub-Category</th>\n",
       "    </tr>\n",
       "  </thead>\n",
       "  <tbody>\n",
       "    <tr>\n",
       "      <th>0</th>\n",
       "      <td>HNW</td>\n",
       "      <td>HNW2</td>\n",
       "    </tr>\n",
       "    <tr>\n",
       "      <th>1</th>\n",
       "      <td>HNW</td>\n",
       "      <td>Discrpency</td>\n",
       "    </tr>\n",
       "    <tr>\n",
       "      <th>2</th>\n",
       "      <td>HNW</td>\n",
       "      <td>HNW3</td>\n",
       "    </tr>\n",
       "    <tr>\n",
       "      <th>3</th>\n",
       "      <td>Claims</td>\n",
       "      <td>CLOSE</td>\n",
       "    </tr>\n",
       "    <tr>\n",
       "      <th>4</th>\n",
       "      <td>Commercial Lines</td>\n",
       "      <td>REI</td>\n",
       "    </tr>\n",
       "  </tbody>\n",
       "</table>\n",
       "</div>"
      ],
      "text/plain": [
       "           Category Sub-Category\n",
       "0               HNW         HNW2\n",
       "1               HNW   Discrpency\n",
       "2               HNW         HNW3\n",
       "3            Claims        CLOSE\n",
       "4  Commercial Lines          REI"
      ]
     },
     "execution_count": 30,
     "metadata": {},
     "output_type": "execute_result"
    }
   ],
   "source": [
    "df.head()"
   ]
  },
  {
   "cell_type": "code",
   "execution_count": 33,
   "metadata": {},
   "outputs": [],
   "source": [
    "# Generating Random Dates\n",
    "start_date = pd.to_datetime('2022-10-01')\n",
    "end_date = pd.to_datetime('2022-10-10')"
   ]
  },
  {
   "cell_type": "code",
   "execution_count": 36,
   "metadata": {},
   "outputs": [],
   "source": [
    "def random_dates_selector(start,end,n,unit='D',seed=None):\n",
    "    if not seed:\n",
    "        np.random.seed(0)\n",
    "    ndays = (end-start).days+1\n",
    "    return pd.to_timedelta(np.random.rand(n)*ndays,unit=unit)+start\n",
    "    "
   ]
  },
  {
   "cell_type": "code",
   "execution_count": 37,
   "metadata": {},
   "outputs": [],
   "source": [
    "createdDate_list=list()\n",
    "createdDate_list = random_dates_selector(start_date,end_date,500)"
   ]
  },
  {
   "cell_type": "code",
   "execution_count": 38,
   "metadata": {},
   "outputs": [],
   "source": [
    "df['Created_Date'] = createdDate_list"
   ]
  },
  {
   "cell_type": "code",
   "execution_count": 39,
   "metadata": {},
   "outputs": [
    {
     "data": {
      "text/html": [
       "<div>\n",
       "<style scoped>\n",
       "    .dataframe tbody tr th:only-of-type {\n",
       "        vertical-align: middle;\n",
       "    }\n",
       "\n",
       "    .dataframe tbody tr th {\n",
       "        vertical-align: top;\n",
       "    }\n",
       "\n",
       "    .dataframe thead th {\n",
       "        text-align: right;\n",
       "    }\n",
       "</style>\n",
       "<table border=\"1\" class=\"dataframe\">\n",
       "  <thead>\n",
       "    <tr style=\"text-align: right;\">\n",
       "      <th></th>\n",
       "      <th>Category</th>\n",
       "      <th>Sub-Category</th>\n",
       "      <th>Created_Date</th>\n",
       "    </tr>\n",
       "  </thead>\n",
       "  <tbody>\n",
       "    <tr>\n",
       "      <th>0</th>\n",
       "      <td>HNW</td>\n",
       "      <td>HNW2</td>\n",
       "      <td>2022-10-06 11:42:54.867369600</td>\n",
       "    </tr>\n",
       "    <tr>\n",
       "      <th>1</th>\n",
       "      <td>HNW</td>\n",
       "      <td>Discrpency</td>\n",
       "      <td>2022-10-08 03:38:43.612569600</td>\n",
       "    </tr>\n",
       "    <tr>\n",
       "      <th>2</th>\n",
       "      <td>HNW</td>\n",
       "      <td>HNW3</td>\n",
       "      <td>2022-10-07 00:39:47.556950400</td>\n",
       "    </tr>\n",
       "    <tr>\n",
       "      <th>3</th>\n",
       "      <td>Claims</td>\n",
       "      <td>CLOSE</td>\n",
       "      <td>2022-10-06 10:46:19.070112000</td>\n",
       "    </tr>\n",
       "    <tr>\n",
       "      <th>4</th>\n",
       "      <td>Commercial Lines</td>\n",
       "      <td>REI</td>\n",
       "      <td>2022-10-05 05:40:37.746595200</td>\n",
       "    </tr>\n",
       "  </tbody>\n",
       "</table>\n",
       "</div>"
      ],
      "text/plain": [
       "           Category Sub-Category                  Created_Date\n",
       "0               HNW         HNW2 2022-10-06 11:42:54.867369600\n",
       "1               HNW   Discrpency 2022-10-08 03:38:43.612569600\n",
       "2               HNW         HNW3 2022-10-07 00:39:47.556950400\n",
       "3            Claims        CLOSE 2022-10-06 10:46:19.070112000\n",
       "4  Commercial Lines          REI 2022-10-05 05:40:37.746595200"
      ]
     },
     "execution_count": 39,
     "metadata": {},
     "output_type": "execute_result"
    }
   ],
   "source": [
    "df.head()"
   ]
  },
  {
   "cell_type": "code",
   "execution_count": null,
   "metadata": {},
   "outputs": [],
   "source": [
    " "
   ]
  }
 ],
 "metadata": {
  "kernelspec": {
   "display_name": "Python 3.9.1 64-bit",
   "language": "python",
   "name": "python3"
  },
  "language_info": {
   "codemirror_mode": {
    "name": "ipython",
    "version": 3
   },
   "file_extension": ".py",
   "mimetype": "text/x-python",
   "name": "python",
   "nbconvert_exporter": "python",
   "pygments_lexer": "ipython3",
   "version": "3.9.1"
  },
  "orig_nbformat": 4,
  "vscode": {
   "interpreter": {
    "hash": "7f17c46cf3553b61eeb89052fbf916d1346ae953eb91bc236734ae64b262b896"
   }
  }
 },
 "nbformat": 4,
 "nbformat_minor": 2
}
