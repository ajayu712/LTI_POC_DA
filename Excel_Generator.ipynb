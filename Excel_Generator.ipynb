{
 "cells": [
  {
   "cell_type": "markdown",
   "metadata": {},
   "source": [
    "Excel Generator for Different Categories and Sub Categories with Assigned to and SLA"
   ]
  },
  {
   "cell_type": "code",
   "execution_count": 38,
   "metadata": {},
   "outputs": [],
   "source": [
    "listCategories=['Commercial Lines','Personal Lines','Claims','Flood','HNW' ]\n",
    "listSubCategories_CL=['CAN','CL Error','CL NEW','REN','REI','ROF']\n",
    "listSubCategories_PL=['CAN','CL Error','CL NEW','REN','REI','ROF']\n",
    "listSubCategories_Claims=['ACK','CAT','CLOSE','IR-CLAIMS']\n",
    "listSubCategories_Flood=['Call backs','Discrpency','Quotes']\n",
    "listSubCategories_HNW=['Discrpency','MKT','HNW1','HNW2','HNW3','HNW4']\n",
    "listSLA=[8,12,24,48]\n",
    "listAssociates=['Ajay Upadhyaya','Marvin Raj','Vijay Shevate','Akanksha Jadhav','John Doe','Tom Hanks','Virat Sharma']"
   ]
  },
  {
   "cell_type": "code",
   "execution_count": 66,
   "metadata": {},
   "outputs": [],
   "source": [
    "import random\n",
    "import numpy as np\n",
    "import pandas as pd\n",
    "from datetime import datetime\n",
    "from datetime import timedelta"
   ]
  },
  {
   "cell_type": "code",
   "execution_count": null,
   "metadata": {},
   "outputs": [],
   "source": [
    "df=pd.DataFrame()"
   ]
  },
  {
   "cell_type": "code",
   "execution_count": 40,
   "metadata": {},
   "outputs": [],
   "source": [
    "Category=random.choices(listCategories,k=100)\n",
    "sla_data=random.choices(listSLA,k=100)\n",
    "Assigned_Associate = random.choices(listAssociates,k=100)"
   ]
  },
  {
   "cell_type": "code",
   "execution_count": 41,
   "metadata": {},
   "outputs": [],
   "source": [
    "df = pd.DataFrame({'Category':Category,'SLA':sla_data,'Assigned Associate':Assigned_Associate})"
   ]
  },
  {
   "cell_type": "code",
   "execution_count": null,
   "metadata": {},
   "outputs": [],
   "source": [
    "df.head()"
   ]
  },
  {
   "cell_type": "code",
   "execution_count": 42,
   "metadata": {},
   "outputs": [],
   "source": [
    "# Adding Today's Date as Document Received\n",
    "\n",
    "df['Date_Received']=datetime.today()"
   ]
  },
  {
   "cell_type": "code",
   "execution_count": 43,
   "metadata": {},
   "outputs": [],
   "source": [
    "def subCat_Selection(df):\n",
    "    #listCategories=['Commercial Lines','Personal Lines','Claims','Flood','HNW' ]\n",
    "    if df['Category'].__eq__('Commercial Lines'):\n",
    "        return random.choice(listSubCategories_CL)\n",
    "    elif df['Category'].__eq__('Personal Lines'):\n",
    "        return random.choice(listSubCategories_PL)\n",
    "    elif df['Category'].__eq__('Claims'):\n",
    "        return random.choice(listSubCategories_Claims)\n",
    "    elif df['Category'].__eq__('Flood'):\n",
    "        return random.choice(listSubCategories_Flood)\n",
    "    elif df['Category'].__eq__('HNW'):\n",
    "        return random.choice(listSubCategories_HNW)"
   ]
  },
  {
   "cell_type": "code",
   "execution_count": 44,
   "metadata": {},
   "outputs": [],
   "source": [
    "df['Sub-Category'] = df.apply(lambda row: subCat_Selection(row), axis=1)"
   ]
  },
  {
   "cell_type": "code",
   "execution_count": 84,
   "metadata": {},
   "outputs": [
    {
     "data": {
      "text/html": [
       "<div>\n",
       "<style scoped>\n",
       "    .dataframe tbody tr th:only-of-type {\n",
       "        vertical-align: middle;\n",
       "    }\n",
       "\n",
       "    .dataframe tbody tr th {\n",
       "        vertical-align: top;\n",
       "    }\n",
       "\n",
       "    .dataframe thead th {\n",
       "        text-align: right;\n",
       "    }\n",
       "</style>\n",
       "<table border=\"1\" class=\"dataframe\">\n",
       "  <thead>\n",
       "    <tr style=\"text-align: right;\">\n",
       "      <th></th>\n",
       "      <th>Category</th>\n",
       "      <th>SLA</th>\n",
       "      <th>Assigned Associate</th>\n",
       "      <th>Date_Received</th>\n",
       "      <th>Sub-Category</th>\n",
       "      <th>SLA_Time_Elapsed</th>\n",
       "      <th>Time_Remaining_For_SLA</th>\n",
       "    </tr>\n",
       "  </thead>\n",
       "  <tbody>\n",
       "    <tr>\n",
       "      <th>0</th>\n",
       "      <td>Claims</td>\n",
       "      <td>48</td>\n",
       "      <td>Ajay Upadhyaya</td>\n",
       "      <td>2022-10-04 14:38:56.041618</td>\n",
       "      <td>IR-CLAIMS</td>\n",
       "      <td>2022-10-02 14:38:56.041618</td>\n",
       "      <td>-48.0</td>\n",
       "    </tr>\n",
       "    <tr>\n",
       "      <th>1</th>\n",
       "      <td>Claims</td>\n",
       "      <td>24</td>\n",
       "      <td>Ajay Upadhyaya</td>\n",
       "      <td>2022-10-04 14:38:56.041618</td>\n",
       "      <td>ACK</td>\n",
       "      <td>2022-10-03 14:38:56.041618</td>\n",
       "      <td>-24.0</td>\n",
       "    </tr>\n",
       "    <tr>\n",
       "      <th>2</th>\n",
       "      <td>Commercial Lines</td>\n",
       "      <td>24</td>\n",
       "      <td>Ajay Upadhyaya</td>\n",
       "      <td>2022-10-04 14:38:56.041618</td>\n",
       "      <td>CAN</td>\n",
       "      <td>2022-10-03 14:38:56.041618</td>\n",
       "      <td>-24.0</td>\n",
       "    </tr>\n",
       "    <tr>\n",
       "      <th>3</th>\n",
       "      <td>Claims</td>\n",
       "      <td>8</td>\n",
       "      <td>Virat Sharma</td>\n",
       "      <td>2022-10-04 14:38:56.041618</td>\n",
       "      <td>CAT</td>\n",
       "      <td>2022-10-04 06:38:56.041618</td>\n",
       "      <td>-8.0</td>\n",
       "    </tr>\n",
       "    <tr>\n",
       "      <th>4</th>\n",
       "      <td>Personal Lines</td>\n",
       "      <td>8</td>\n",
       "      <td>John Doe</td>\n",
       "      <td>2022-10-04 14:38:56.041618</td>\n",
       "      <td>CAN</td>\n",
       "      <td>2022-10-04 06:38:56.041618</td>\n",
       "      <td>-8.0</td>\n",
       "    </tr>\n",
       "  </tbody>\n",
       "</table>\n",
       "</div>"
      ],
      "text/plain": [
       "           Category  SLA Assigned Associate              Date_Received  \\\n",
       "0            Claims   48     Ajay Upadhyaya 2022-10-04 14:38:56.041618   \n",
       "1            Claims   24     Ajay Upadhyaya 2022-10-04 14:38:56.041618   \n",
       "2  Commercial Lines   24     Ajay Upadhyaya 2022-10-04 14:38:56.041618   \n",
       "3            Claims    8       Virat Sharma 2022-10-04 14:38:56.041618   \n",
       "4    Personal Lines    8           John Doe 2022-10-04 14:38:56.041618   \n",
       "\n",
       "  Sub-Category            SLA_Time_Elapsed Time_Remaining_For_SLA  \n",
       "0    IR-CLAIMS  2022-10-02 14:38:56.041618                  -48.0  \n",
       "1          ACK  2022-10-03 14:38:56.041618                  -24.0  \n",
       "2          CAN  2022-10-03 14:38:56.041618                  -24.0  \n",
       "3          CAT  2022-10-04 06:38:56.041618                   -8.0  \n",
       "4          CAN  2022-10-04 06:38:56.041618                   -8.0  "
      ]
     },
     "execution_count": 84,
     "metadata": {},
     "output_type": "execute_result"
    }
   ],
   "source": [
    "df.head()\n",
    "#df.drop(['Hours_Remaining_For_SLA'],axis=1,inplace=True)"
   ]
  },
  {
   "cell_type": "code",
   "execution_count": 87,
   "metadata": {},
   "outputs": [],
   "source": [
    "df['SLA_Time_Elapsed']=''\n",
    "for i in range(len(df)):\n",
    "    df.loc[i,'SLA_Time_Elapsed'] = pd.to_datetime(df.loc[i,'Date_Received'])+timedelta(hours=int(df.loc[i,'SLA']))"
   ]
  },
  {
   "cell_type": "code",
   "execution_count": 105,
   "metadata": {},
   "outputs": [],
   "source": [
    "df['SLA_Time_Elapsed'] = pd.to_datetime(df['SLA_Time_Elapsed'], errors='coerce')\n",
    "\n",
    "df['Time_Remaining_For_SLA'] = (df['SLA_Time_Elapsed'] - datetime.today()).dt.total_seconds() / 60 / 60"
   ]
  },
  {
   "cell_type": "code",
   "execution_count": 106,
   "metadata": {},
   "outputs": [
    {
     "data": {
      "text/html": [
       "<div>\n",
       "<style scoped>\n",
       "    .dataframe tbody tr th:only-of-type {\n",
       "        vertical-align: middle;\n",
       "    }\n",
       "\n",
       "    .dataframe tbody tr th {\n",
       "        vertical-align: top;\n",
       "    }\n",
       "\n",
       "    .dataframe thead th {\n",
       "        text-align: right;\n",
       "    }\n",
       "</style>\n",
       "<table border=\"1\" class=\"dataframe\">\n",
       "  <thead>\n",
       "    <tr style=\"text-align: right;\">\n",
       "      <th></th>\n",
       "      <th>Category</th>\n",
       "      <th>SLA</th>\n",
       "      <th>Assigned Associate</th>\n",
       "      <th>Date_Received</th>\n",
       "      <th>Sub-Category</th>\n",
       "      <th>SLA_Time_Elapsed</th>\n",
       "      <th>Time_Remaining_For_SLA</th>\n",
       "    </tr>\n",
       "  </thead>\n",
       "  <tbody>\n",
       "    <tr>\n",
       "      <th>0</th>\n",
       "      <td>Claims</td>\n",
       "      <td>48</td>\n",
       "      <td>Ajay Upadhyaya</td>\n",
       "      <td>2022-10-04 14:38:56.041618</td>\n",
       "      <td>IR-CLAIMS</td>\n",
       "      <td>2022-10-06 14:38:56.041618</td>\n",
       "      <td>44.837187</td>\n",
       "    </tr>\n",
       "    <tr>\n",
       "      <th>1</th>\n",
       "      <td>Claims</td>\n",
       "      <td>24</td>\n",
       "      <td>Ajay Upadhyaya</td>\n",
       "      <td>2022-10-04 14:38:56.041618</td>\n",
       "      <td>ACK</td>\n",
       "      <td>2022-10-05 14:38:56.041618</td>\n",
       "      <td>20.837187</td>\n",
       "    </tr>\n",
       "    <tr>\n",
       "      <th>2</th>\n",
       "      <td>Commercial Lines</td>\n",
       "      <td>24</td>\n",
       "      <td>Ajay Upadhyaya</td>\n",
       "      <td>2022-10-04 14:38:56.041618</td>\n",
       "      <td>CAN</td>\n",
       "      <td>2022-10-05 14:38:56.041618</td>\n",
       "      <td>20.837187</td>\n",
       "    </tr>\n",
       "    <tr>\n",
       "      <th>3</th>\n",
       "      <td>Claims</td>\n",
       "      <td>8</td>\n",
       "      <td>Virat Sharma</td>\n",
       "      <td>2022-10-04 14:38:56.041618</td>\n",
       "      <td>CAT</td>\n",
       "      <td>2022-10-04 22:38:56.041618</td>\n",
       "      <td>4.837187</td>\n",
       "    </tr>\n",
       "    <tr>\n",
       "      <th>4</th>\n",
       "      <td>Personal Lines</td>\n",
       "      <td>8</td>\n",
       "      <td>John Doe</td>\n",
       "      <td>2022-10-04 14:38:56.041618</td>\n",
       "      <td>CAN</td>\n",
       "      <td>2022-10-04 22:38:56.041618</td>\n",
       "      <td>4.837187</td>\n",
       "    </tr>\n",
       "  </tbody>\n",
       "</table>\n",
       "</div>"
      ],
      "text/plain": [
       "           Category  SLA Assigned Associate              Date_Received  \\\n",
       "0            Claims   48     Ajay Upadhyaya 2022-10-04 14:38:56.041618   \n",
       "1            Claims   24     Ajay Upadhyaya 2022-10-04 14:38:56.041618   \n",
       "2  Commercial Lines   24     Ajay Upadhyaya 2022-10-04 14:38:56.041618   \n",
       "3            Claims    8       Virat Sharma 2022-10-04 14:38:56.041618   \n",
       "4    Personal Lines    8           John Doe 2022-10-04 14:38:56.041618   \n",
       "\n",
       "  Sub-Category           SLA_Time_Elapsed  Time_Remaining_For_SLA  \n",
       "0    IR-CLAIMS 2022-10-06 14:38:56.041618               44.837187  \n",
       "1          ACK 2022-10-05 14:38:56.041618               20.837187  \n",
       "2          CAN 2022-10-05 14:38:56.041618               20.837187  \n",
       "3          CAT 2022-10-04 22:38:56.041618                4.837187  \n",
       "4          CAN 2022-10-04 22:38:56.041618                4.837187  "
      ]
     },
     "execution_count": 106,
     "metadata": {},
     "output_type": "execute_result"
    }
   ],
   "source": [
    "df.head()"
   ]
  },
  {
   "cell_type": "code",
   "execution_count": 107,
   "metadata": {},
   "outputs": [],
   "source": [
    "df.to_excel('Dummy_Data.xlsx',index=False)"
   ]
  },
  {
   "cell_type": "code",
   "execution_count": null,
   "metadata": {},
   "outputs": [],
   "source": []
  }
 ],
 "metadata": {
  "kernelspec": {
   "display_name": "Python 3.9.1 64-bit",
   "language": "python",
   "name": "python3"
  },
  "language_info": {
   "codemirror_mode": {
    "name": "ipython",
    "version": 3
   },
   "file_extension": ".py",
   "mimetype": "text/x-python",
   "name": "python",
   "nbconvert_exporter": "python",
   "pygments_lexer": "ipython3",
   "version": "3.9.1"
  },
  "orig_nbformat": 4,
  "vscode": {
   "interpreter": {
    "hash": "7f17c46cf3553b61eeb89052fbf916d1346ae953eb91bc236734ae64b262b896"
   }
  }
 },
 "nbformat": 4,
 "nbformat_minor": 2
}
