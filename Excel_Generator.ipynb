{
 "cells": [
  {
   "cell_type": "markdown",
   "metadata": {},
   "source": [
    "Excel Generator for Different Categories and Sub Categories with Assigned to and SLA"
   ]
  },
  {
   "cell_type": "code",
   "execution_count": 2,
   "metadata": {},
   "outputs": [],
   "source": [
    "listCategories=['Commercial Lines','Personal Lines','Claims','Flood','HNW' ]\n",
    "listSubCategories_CL=['CAN','CL Error','CL NEW','REN','REI','ROF']\n",
    "listSubCategories_PL=['CAN','CL Error','CL NEW','REN','REI','ROF']\n",
    "listSubCategories_Claims=['ACK','CAT','CLOSE','IR-CLAIMS']\n",
    "listSubCategories_Flood=['Call backs','Discrpency','Quotes']\n",
    "listSubCategories_HNW=['Discrpency','MKT','HNW1','HNW2','HNW3','HNW4']\n",
    "listSLA=[8,12,24,48]\n",
    "listAssociates=['Ajay Upadhyaya','Marvin Raj','Vijay Shevate','Akanksha Jadhav','John Doe','Tom Hanks','Virat Sharma']"
   ]
  },
  {
   "cell_type": "code",
   "execution_count": 3,
   "metadata": {},
   "outputs": [],
   "source": [
    "import random\n",
    "import numpy as np\n",
    "import pandas as pd\n",
    "from datetime import datetime\n",
    "from datetime import timedelta"
   ]
  },
  {
   "cell_type": "code",
   "execution_count": 4,
   "metadata": {},
   "outputs": [],
   "source": [
    "df=pd.DataFrame()"
   ]
  },
  {
   "cell_type": "code",
   "execution_count": 5,
   "metadata": {},
   "outputs": [],
   "source": [
    "Category=random.choices(listCategories,k=100)\n",
    "sla_data=random.choices(listSLA,k=100)\n",
    "Assigned_Associate = random.choices(listAssociates,k=100)"
   ]
  },
  {
   "cell_type": "code",
   "execution_count": 6,
   "metadata": {},
   "outputs": [],
   "source": [
    "df = pd.DataFrame({'Category':Category,'SLA':sla_data,'Assigned Associate':Assigned_Associate})"
   ]
  },
  {
   "cell_type": "code",
   "execution_count": 7,
   "metadata": {},
   "outputs": [
    {
     "data": {
      "text/html": [
       "<div>\n",
       "<style scoped>\n",
       "    .dataframe tbody tr th:only-of-type {\n",
       "        vertical-align: middle;\n",
       "    }\n",
       "\n",
       "    .dataframe tbody tr th {\n",
       "        vertical-align: top;\n",
       "    }\n",
       "\n",
       "    .dataframe thead th {\n",
       "        text-align: right;\n",
       "    }\n",
       "</style>\n",
       "<table border=\"1\" class=\"dataframe\">\n",
       "  <thead>\n",
       "    <tr style=\"text-align: right;\">\n",
       "      <th></th>\n",
       "      <th>Category</th>\n",
       "      <th>SLA</th>\n",
       "      <th>Assigned Associate</th>\n",
       "    </tr>\n",
       "  </thead>\n",
       "  <tbody>\n",
       "    <tr>\n",
       "      <th>0</th>\n",
       "      <td>Flood</td>\n",
       "      <td>8</td>\n",
       "      <td>John Doe</td>\n",
       "    </tr>\n",
       "    <tr>\n",
       "      <th>1</th>\n",
       "      <td>Personal Lines</td>\n",
       "      <td>8</td>\n",
       "      <td>Virat Sharma</td>\n",
       "    </tr>\n",
       "    <tr>\n",
       "      <th>2</th>\n",
       "      <td>Personal Lines</td>\n",
       "      <td>24</td>\n",
       "      <td>Ajay Upadhyaya</td>\n",
       "    </tr>\n",
       "    <tr>\n",
       "      <th>3</th>\n",
       "      <td>Flood</td>\n",
       "      <td>48</td>\n",
       "      <td>Akanksha Jadhav</td>\n",
       "    </tr>\n",
       "    <tr>\n",
       "      <th>4</th>\n",
       "      <td>Flood</td>\n",
       "      <td>48</td>\n",
       "      <td>Ajay Upadhyaya</td>\n",
       "    </tr>\n",
       "  </tbody>\n",
       "</table>\n",
       "</div>"
      ],
      "text/plain": [
       "         Category  SLA Assigned Associate\n",
       "0           Flood    8           John Doe\n",
       "1  Personal Lines    8       Virat Sharma\n",
       "2  Personal Lines   24     Ajay Upadhyaya\n",
       "3           Flood   48    Akanksha Jadhav\n",
       "4           Flood   48     Ajay Upadhyaya"
      ]
     },
     "execution_count": 7,
     "metadata": {},
     "output_type": "execute_result"
    }
   ],
   "source": [
    "df.head()"
   ]
  },
  {
   "cell_type": "code",
   "execution_count": 8,
   "metadata": {},
   "outputs": [],
   "source": [
    "# Adding Today's Date as Document Received\n",
    "\n",
    "df['Date_Received']=datetime.today()"
   ]
  },
  {
   "cell_type": "code",
   "execution_count": 9,
   "metadata": {},
   "outputs": [],
   "source": [
    "def subCat_Selection(df):\n",
    "    #listCategories=['Commercial Lines','Personal Lines','Claims','Flood','HNW' ]\n",
    "    if df['Category'].__eq__('Commercial Lines'):\n",
    "        return random.choice(listSubCategories_CL)\n",
    "    elif df['Category'].__eq__('Personal Lines'):\n",
    "        return random.choice(listSubCategories_PL)\n",
    "    elif df['Category'].__eq__('Claims'):\n",
    "        return random.choice(listSubCategories_Claims)\n",
    "    elif df['Category'].__eq__('Flood'):\n",
    "        return random.choice(listSubCategories_Flood)\n",
    "    elif df['Category'].__eq__('HNW'):\n",
    "        return random.choice(listSubCategories_HNW)"
   ]
  },
  {
   "cell_type": "code",
   "execution_count": 10,
   "metadata": {},
   "outputs": [],
   "source": [
    "df['Sub-Category'] = df.apply(lambda row: subCat_Selection(row), axis=1)"
   ]
  },
  {
   "cell_type": "code",
   "execution_count": 11,
   "metadata": {},
   "outputs": [
    {
     "data": {
      "text/html": [
       "<div>\n",
       "<style scoped>\n",
       "    .dataframe tbody tr th:only-of-type {\n",
       "        vertical-align: middle;\n",
       "    }\n",
       "\n",
       "    .dataframe tbody tr th {\n",
       "        vertical-align: top;\n",
       "    }\n",
       "\n",
       "    .dataframe thead th {\n",
       "        text-align: right;\n",
       "    }\n",
       "</style>\n",
       "<table border=\"1\" class=\"dataframe\">\n",
       "  <thead>\n",
       "    <tr style=\"text-align: right;\">\n",
       "      <th></th>\n",
       "      <th>Category</th>\n",
       "      <th>SLA</th>\n",
       "      <th>Assigned Associate</th>\n",
       "      <th>Date_Received</th>\n",
       "      <th>Sub-Category</th>\n",
       "    </tr>\n",
       "  </thead>\n",
       "  <tbody>\n",
       "    <tr>\n",
       "      <th>0</th>\n",
       "      <td>Flood</td>\n",
       "      <td>8</td>\n",
       "      <td>John Doe</td>\n",
       "      <td>2022-10-05 19:11:47.938349</td>\n",
       "      <td>Call backs</td>\n",
       "    </tr>\n",
       "    <tr>\n",
       "      <th>1</th>\n",
       "      <td>Personal Lines</td>\n",
       "      <td>8</td>\n",
       "      <td>Virat Sharma</td>\n",
       "      <td>2022-10-05 19:11:47.938349</td>\n",
       "      <td>CL Error</td>\n",
       "    </tr>\n",
       "    <tr>\n",
       "      <th>2</th>\n",
       "      <td>Personal Lines</td>\n",
       "      <td>24</td>\n",
       "      <td>Ajay Upadhyaya</td>\n",
       "      <td>2022-10-05 19:11:47.938349</td>\n",
       "      <td>CL Error</td>\n",
       "    </tr>\n",
       "    <tr>\n",
       "      <th>3</th>\n",
       "      <td>Flood</td>\n",
       "      <td>48</td>\n",
       "      <td>Akanksha Jadhav</td>\n",
       "      <td>2022-10-05 19:11:47.938349</td>\n",
       "      <td>Call backs</td>\n",
       "    </tr>\n",
       "    <tr>\n",
       "      <th>4</th>\n",
       "      <td>Flood</td>\n",
       "      <td>48</td>\n",
       "      <td>Ajay Upadhyaya</td>\n",
       "      <td>2022-10-05 19:11:47.938349</td>\n",
       "      <td>Discrpency</td>\n",
       "    </tr>\n",
       "  </tbody>\n",
       "</table>\n",
       "</div>"
      ],
      "text/plain": [
       "         Category  SLA Assigned Associate              Date_Received  \\\n",
       "0           Flood    8           John Doe 2022-10-05 19:11:47.938349   \n",
       "1  Personal Lines    8       Virat Sharma 2022-10-05 19:11:47.938349   \n",
       "2  Personal Lines   24     Ajay Upadhyaya 2022-10-05 19:11:47.938349   \n",
       "3           Flood   48    Akanksha Jadhav 2022-10-05 19:11:47.938349   \n",
       "4           Flood   48     Ajay Upadhyaya 2022-10-05 19:11:47.938349   \n",
       "\n",
       "  Sub-Category  \n",
       "0   Call backs  \n",
       "1     CL Error  \n",
       "2     CL Error  \n",
       "3   Call backs  \n",
       "4   Discrpency  "
      ]
     },
     "execution_count": 11,
     "metadata": {},
     "output_type": "execute_result"
    }
   ],
   "source": [
    "df.head()\n",
    "#df.drop(['Hours_Remaining_For_SLA'],axis=1,inplace=True)"
   ]
  },
  {
   "cell_type": "code",
   "execution_count": 12,
   "metadata": {},
   "outputs": [],
   "source": [
    "df['SLA_Time_Elapsed']=''\n",
    "for i in range(len(df)):\n",
    "    df.loc[i,'SLA_Time_Elapsed'] = pd.to_datetime(df.loc[i,'Date_Received'])+timedelta(hours=int(df.loc[i,'SLA']))"
   ]
  },
  {
   "cell_type": "code",
   "execution_count": 13,
   "metadata": {},
   "outputs": [],
   "source": [
    "df['SLA_Time_Elapsed'] = pd.to_datetime(df['SLA_Time_Elapsed'], errors='coerce')\n",
    "\n",
    "df['Time_Remaining_For_SLA'] = (df['SLA_Time_Elapsed'] - datetime.today()).dt.total_seconds() / 60 / 60"
   ]
  },
  {
   "cell_type": "code",
   "execution_count": 14,
   "metadata": {},
   "outputs": [
    {
     "data": {
      "text/html": [
       "<div>\n",
       "<style scoped>\n",
       "    .dataframe tbody tr th:only-of-type {\n",
       "        vertical-align: middle;\n",
       "    }\n",
       "\n",
       "    .dataframe tbody tr th {\n",
       "        vertical-align: top;\n",
       "    }\n",
       "\n",
       "    .dataframe thead th {\n",
       "        text-align: right;\n",
       "    }\n",
       "</style>\n",
       "<table border=\"1\" class=\"dataframe\">\n",
       "  <thead>\n",
       "    <tr style=\"text-align: right;\">\n",
       "      <th></th>\n",
       "      <th>Category</th>\n",
       "      <th>SLA</th>\n",
       "      <th>Assigned Associate</th>\n",
       "      <th>Date_Received</th>\n",
       "      <th>Sub-Category</th>\n",
       "      <th>SLA_Time_Elapsed</th>\n",
       "      <th>Time_Remaining_For_SLA</th>\n",
       "    </tr>\n",
       "  </thead>\n",
       "  <tbody>\n",
       "    <tr>\n",
       "      <th>0</th>\n",
       "      <td>Flood</td>\n",
       "      <td>8</td>\n",
       "      <td>John Doe</td>\n",
       "      <td>2022-10-05 19:11:47.938349</td>\n",
       "      <td>Call backs</td>\n",
       "      <td>2022-10-06 03:11:47.938349</td>\n",
       "      <td>7.991179</td>\n",
       "    </tr>\n",
       "    <tr>\n",
       "      <th>1</th>\n",
       "      <td>Personal Lines</td>\n",
       "      <td>8</td>\n",
       "      <td>Virat Sharma</td>\n",
       "      <td>2022-10-05 19:11:47.938349</td>\n",
       "      <td>CL Error</td>\n",
       "      <td>2022-10-06 03:11:47.938349</td>\n",
       "      <td>7.991179</td>\n",
       "    </tr>\n",
       "    <tr>\n",
       "      <th>2</th>\n",
       "      <td>Personal Lines</td>\n",
       "      <td>24</td>\n",
       "      <td>Ajay Upadhyaya</td>\n",
       "      <td>2022-10-05 19:11:47.938349</td>\n",
       "      <td>CL Error</td>\n",
       "      <td>2022-10-06 19:11:47.938349</td>\n",
       "      <td>23.991179</td>\n",
       "    </tr>\n",
       "    <tr>\n",
       "      <th>3</th>\n",
       "      <td>Flood</td>\n",
       "      <td>48</td>\n",
       "      <td>Akanksha Jadhav</td>\n",
       "      <td>2022-10-05 19:11:47.938349</td>\n",
       "      <td>Call backs</td>\n",
       "      <td>2022-10-07 19:11:47.938349</td>\n",
       "      <td>47.991179</td>\n",
       "    </tr>\n",
       "    <tr>\n",
       "      <th>4</th>\n",
       "      <td>Flood</td>\n",
       "      <td>48</td>\n",
       "      <td>Ajay Upadhyaya</td>\n",
       "      <td>2022-10-05 19:11:47.938349</td>\n",
       "      <td>Discrpency</td>\n",
       "      <td>2022-10-07 19:11:47.938349</td>\n",
       "      <td>47.991179</td>\n",
       "    </tr>\n",
       "  </tbody>\n",
       "</table>\n",
       "</div>"
      ],
      "text/plain": [
       "         Category  SLA Assigned Associate              Date_Received  \\\n",
       "0           Flood    8           John Doe 2022-10-05 19:11:47.938349   \n",
       "1  Personal Lines    8       Virat Sharma 2022-10-05 19:11:47.938349   \n",
       "2  Personal Lines   24     Ajay Upadhyaya 2022-10-05 19:11:47.938349   \n",
       "3           Flood   48    Akanksha Jadhav 2022-10-05 19:11:47.938349   \n",
       "4           Flood   48     Ajay Upadhyaya 2022-10-05 19:11:47.938349   \n",
       "\n",
       "  Sub-Category           SLA_Time_Elapsed  Time_Remaining_For_SLA  \n",
       "0   Call backs 2022-10-06 03:11:47.938349                7.991179  \n",
       "1     CL Error 2022-10-06 03:11:47.938349                7.991179  \n",
       "2     CL Error 2022-10-06 19:11:47.938349               23.991179  \n",
       "3   Call backs 2022-10-07 19:11:47.938349               47.991179  \n",
       "4   Discrpency 2022-10-07 19:11:47.938349               47.991179  "
      ]
     },
     "execution_count": 14,
     "metadata": {},
     "output_type": "execute_result"
    }
   ],
   "source": [
    "df.head()"
   ]
  },
  {
   "cell_type": "code",
   "execution_count": 15,
   "metadata": {},
   "outputs": [],
   "source": [
    "df.to_excel('Dummy_Data.xlsx',index=False)"
   ]
  },
  {
   "cell_type": "code",
   "execution_count": null,
   "metadata": {},
   "outputs": [],
   "source": []
  }
 ],
 "metadata": {
  "kernelspec": {
   "display_name": "Python 3.9.1 64-bit",
   "language": "python",
   "name": "python3"
  },
  "language_info": {
   "codemirror_mode": {
    "name": "ipython",
    "version": 3
   },
   "file_extension": ".py",
   "mimetype": "text/x-python",
   "name": "python",
   "nbconvert_exporter": "python",
   "pygments_lexer": "ipython3",
   "version": "3.9.1"
  },
  "orig_nbformat": 4,
  "vscode": {
   "interpreter": {
    "hash": "7f17c46cf3553b61eeb89052fbf916d1346ae953eb91bc236734ae64b262b896"
   }
  }
 },
 "nbformat": 4,
 "nbformat_minor": 2
}
